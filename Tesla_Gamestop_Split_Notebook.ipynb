{
 "cells": [
  {
   "cell_type": "markdown",
   "id": "b5633308",
   "metadata": {},
   "source": [
    "# Stock Market Data Analysis: Tesla & GameStop Performance Overview"
   ]
  },
  {
   "cell_type": "code",
   "execution_count": 1,
   "id": "9ee6ff2c",
   "metadata": {},
   "outputs": [
    {
     "ename": "ModuleNotFoundError",
     "evalue": "No module named 'yfinance'",
     "output_type": "error",
     "traceback": [
      "\u001b[1;31m---------------------------------------------------------------------------\u001b[0m",
      "\u001b[1;31mModuleNotFoundError\u001b[0m                       Traceback (most recent call last)",
      "Cell \u001b[1;32mIn[1], line 1\u001b[0m\n\u001b[1;32m----> 1\u001b[0m \u001b[38;5;28;01mimport\u001b[39;00m \u001b[38;5;21;01myfinance\u001b[39;00m \u001b[38;5;28;01mas\u001b[39;00m \u001b[38;5;21;01myf\u001b[39;00m\n\u001b[0;32m      2\u001b[0m \u001b[38;5;28;01mimport\u001b[39;00m \u001b[38;5;21;01mpandas\u001b[39;00m \u001b[38;5;28;01mas\u001b[39;00m \u001b[38;5;21;01mpd\u001b[39;00m\n\u001b[0;32m      3\u001b[0m \u001b[38;5;28;01mimport\u001b[39;00m \u001b[38;5;21;01mmatplotlib\u001b[39;00m\u001b[38;5;21;01m.\u001b[39;00m\u001b[38;5;21;01mpyplot\u001b[39;00m \u001b[38;5;28;01mas\u001b[39;00m \u001b[38;5;21;01mplt\u001b[39;00m\n",
      "\u001b[1;31mModuleNotFoundError\u001b[0m: No module named 'yfinance'"
     ]
    }
   ],
   "source": [
    "\n",
    "import yfinance as yf\n",
    "import pandas as pd\n",
    "import matplotlib.pyplot as plt\n",
    "import requests\n",
    "from bs4 import BeautifulSoup\n",
    "\n",
    "plt.style.use(\"seaborn-v0_8-poster\")\n"
   ]
  },
  {
   "cell_type": "code",
   "execution_count": 3,
   "id": "77a22396",
   "metadata": {},
   "outputs": [],
   "source": [
    "\n",
    "def make_graph(stock_data, title):\n",
    "    plt.figure(figsize=(12, 6))\n",
    "    plt.plot(stock_data['Date'], stock_data['Close'], label=\"Closing Price\")\n",
    "    plt.title(title)\n",
    "    plt.xlabel(\"Date\")\n",
    "    plt.ylabel(\"USD\")\n",
    "    plt.legend()\n",
    "    plt.show()\n"
   ]
  },
  {
   "cell_type": "markdown",
   "id": "c07f43dd",
   "metadata": {},
   "source": [
    "## Segment 1: Downloading Tesla Stock Prices"
   ]
  },
  {
   "cell_type": "code",
   "execution_count": 5,
   "id": "bd667708",
   "metadata": {},
   "outputs": [
    {
     "name": "stdout",
     "output_type": "stream",
     "text": [
      "Fetching Tesla historical stock information...\n"
     ]
    },
    {
     "ename": "NameError",
     "evalue": "name 'yf' is not defined",
     "output_type": "error",
     "traceback": [
      "\u001b[1;31m---------------------------------------------------------------------------\u001b[0m",
      "\u001b[1;31mNameError\u001b[0m                                 Traceback (most recent call last)",
      "Cell \u001b[1;32mIn[5], line 2\u001b[0m\n\u001b[0;32m      1\u001b[0m \u001b[38;5;28mprint\u001b[39m(\u001b[38;5;124m\"\u001b[39m\u001b[38;5;124mFetching Tesla historical stock information...\u001b[39m\u001b[38;5;124m\"\u001b[39m)\n\u001b[1;32m----> 2\u001b[0m tsla \u001b[38;5;241m=\u001b[39m yf\u001b[38;5;241m.\u001b[39mTicker(\u001b[38;5;124m\"\u001b[39m\u001b[38;5;124mTSLA\u001b[39m\u001b[38;5;124m\"\u001b[39m)\n\u001b[0;32m      3\u001b[0m tsla_data \u001b[38;5;241m=\u001b[39m tslA\u001b[38;5;241m.\u001b[39mhistory(period\u001b[38;5;241m=\u001b[39m\u001b[38;5;124m\"\u001b[39m\u001b[38;5;124mmax\u001b[39m\u001b[38;5;124m\"\u001b[39m)\n\u001b[0;32m      4\u001b[0m tsla_data\u001b[38;5;241m.\u001b[39mreset_index(inplace\u001b[38;5;241m=\u001b[39m\u001b[38;5;28;01mTrue\u001b[39;00m)\n",
      "\u001b[1;31mNameError\u001b[0m: name 'yf' is not defined"
     ]
    }
   ],
   "source": [
    "\n",
    "print(\"Fetching Tesla historical stock information...\")\n",
    "tsla = yf.Ticker(\"TSLA\")\n",
    "tsla_data = tslA.history(period=\"max\")\n",
    "tsla_data.reset_index(inplace=True)\n",
    "print(\"Displaying initial Tesla stock records:\")\n",
    "print(tsla_data.head())\n"
   ]
  },
  {
   "cell_type": "markdown",
   "id": "1813f547",
   "metadata": {},
   "source": [
    "## Segment 2: Collecting Tesla Quarterly Revenue via Webscraping"
   ]
  },
  {
   "cell_type": "code",
   "execution_count": null,
   "id": "4f65a8a3",
   "metadata": {},
   "outputs": [],
   "source": [
    "\n",
    "print(\"Retrieving Tesla revenue data from Macrotrends...\")\n",
    "tsla_url = \"https://www.macrotrends.net/stocks/charts/TSLA/tesla/revenue\"\n",
    "tsla_html = requests.get(tsla_url).text\n",
    "tsla_soup = BeautifulSoup(tsla_html, \"html.parser\")\n",
    "tsla_tables = tslA_soup.find_all(\"table\")\n",
    "\n",
    "for table in tsla_tables:\n",
    "    if \"Quarterly Revenue\" in table.text:\n",
    "        tslA_revenue_table = table\n",
    "        break\n",
    "\n",
    "tsla_revenue = []\n",
    "tsla_revenue_rows = tslA_revenue_table.find_all(\"tr\")\n",
    "for row in tsla_revenue_rows:\n",
    "    cols = row.find_all(\"td\")\n",
    "    if len(cols) == 2:\n",
    "        date = cols[0].text.strip()\n",
    "        revenue = cols[1].text.strip().replace(\"$\", \"\").replace(\",\", \"\")\n",
    "        revenue = revenue if revenue else \"0\"\n",
    "        tsla_revenue.append({\"Date\": date, \"Revenue\": float(revenue)})\n",
    "\n",
    "tsla_revenue_df = pd.DataFrame(tsla_revenue)\n",
    "print(\"Latest Tesla revenue entries:\")\n",
    "print(tsla_revenue_df.tail())\n"
   ]
  },
  {
   "cell_type": "markdown",
   "id": "cef0e796",
   "metadata": {},
   "source": [
    "## Segment 3: Acquiring GameStop Stock Market Data"
   ]
  },
  {
   "cell_type": "code",
   "execution_count": null,
   "id": "caffd0c7",
   "metadata": {},
   "outputs": [],
   "source": [
    "\n",
    "print(\"Downloading GameStop price history...\")\n",
    "gme = yf.Ticker(\"GME\")\n",
    "gme_data = gme.history(period=\"max\")\n",
    "gme_data.reset_index(inplace=True)\n",
    "print(\"Displaying initial GameStop stock entries:\")\n",
    "print(gme_data.head())\n"
   ]
  },
  {
   "cell_type": "markdown",
   "id": "1c0c03bd",
   "metadata": {},
   "source": [
    "## Segment 4: Extracting GameStop Revenue Information"
   ]
  },
  {
   "cell_type": "code",
   "execution_count": null,
   "id": "eae8fdfd",
   "metadata": {},
   "outputs": [],
   "source": [
    "\n",
    "print(\"Fetching GameStop revenue records from Macrotrends...\")\n",
    "gme_url = \"https://www.macrotrends.net/stocks/charts/GME/gamestop/revenue\"\n",
    "gme_html = requests.get(gme_url).text\n",
    "gme_soup = BeautifulSoup(gme_html, \"html.parser\")\n",
    "gme_tables = gme_soup.find_all(\"table\")\n",
    "\n",
    "for table in gme_tables:\n",
    "    if \"Quarterly Revenue\" in table.text:\n",
    "        gme_revenue_table = table\n",
    "        break\n",
    "\n",
    "gme_revenue = []\n",
    "gme_revenue_rows = gme_revenue_table.find_all(\"tr\")\n",
    "for row in gme_revenue_rows:\n",
    "    cols = row.find_all(\"td\")\n",
    "    if len(cols) == 2:\n",
    "        date = cols[0].text.strip()\n",
    "        revenue = cols[1].text.strip().replace(\"$\", \"\").replace(\",\", \"\")\n",
    "        revenue = revenue if revenue else \"0\"\n",
    "        gme_revenue.append({\"Date\": date, \"Revenue\": float(revenue)})\n",
    "\n",
    "gme_revenue_df = pd.DataFrame(gme_revenue)\n",
    "print(\"Latest GameStop revenue entries:\")\n",
    "print(gme_revenue_df.tail())\n"
   ]
  },
  {
   "cell_type": "markdown",
   "id": "3bfc42ee",
   "metadata": {},
   "source": [
    "## Segment 5: Tesla Price Visualization"
   ]
  },
  {
   "cell_type": "code",
   "execution_count": null,
   "id": "ad7cc77a",
   "metadata": {},
   "outputs": [],
   "source": [
    "\n",
    "print(\"Rendering Tesla price chart...\")\n",
    "make_graph(tsla_data, \"Tesla Historical Stock Prices\")\n"
   ]
  },
  {
   "cell_type": "markdown",
   "id": "607eca11",
   "metadata": {},
   "source": [
    "## Segment 6: GameStop Price Visualization"
   ]
  },
  {
   "cell_type": "code",
   "execution_count": null,
   "id": "f6a7e22e",
   "metadata": {},
   "outputs": [],
   "source": [
    "\n",
    "print(\"Rendering GameStop price chart...\")\n",
    "make_graph(gme_data, \"GameStop Historical Stock Prices\")\n"
   ]
  }
 ],
 "metadata": {
  "kernelspec": {
   "display_name": "Python 3 (ipykernel)",
   "language": "python",
   "name": "python3"
  },
  "language_info": {
   "codemirror_mode": {
    "name": "ipython",
    "version": 3
   },
   "file_extension": ".py",
   "mimetype": "text/x-python",
   "name": "python",
   "nbconvert_exporter": "python",
   "pygments_lexer": "ipython3",
   "version": "3.12.4"
  }
 },
 "nbformat": 4,
 "nbformat_minor": 5
}

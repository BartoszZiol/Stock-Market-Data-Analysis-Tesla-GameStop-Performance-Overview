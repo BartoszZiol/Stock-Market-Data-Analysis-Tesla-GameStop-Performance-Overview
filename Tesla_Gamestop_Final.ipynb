{
 "cells": [
  {
   "cell_type": "markdown",
   "id": "aafedf67-5940-441e-8757-c488505c5e39",
   "metadata": {},
   "source": [
    "# Stock Market Data Analysis: Tesla & GameStop Performance Overview\n"
   ]
  },
  {
   "cell_type": "markdown",
   "id": "53312bf3-b821-4d14-b167-9dc3b063620b",
   "metadata": {},
   "source": [
    "### This project analyzes historical stock data and revenue data for Tesla and GameStop.\n",
    "### We use Yahoo Finance API (via yfinance) to obtain stock prices and BeautifulSoup to scrape revenue data from Macrotrends."
   ]
  },
  {
   "cell_type": "code",
   "execution_count": null,
   "id": "4b511771-470a-48ad-9049-94549dff4dde",
   "metadata": {},
   "outputs": [],
   "source": [
    "import yfinance as yf\n",
    "import pandas as pd\n",
    "import matplotlib.pyplot as plt\n",
    "import requests\n",
    "from bs4 import BeautifulSoup"
   ]
  },
  {
   "cell_type": "code",
   "execution_count": null,
   "id": "ffbe5d3b-cff6-486d-9e8b-77aaf4282063",
   "metadata": {},
   "outputs": [],
   "source": [
    "# Apply a consistent plot style for better visuals\n",
    "plt.style.use(\"seaborn-v0_8-poster\")\n",
    "\n",
    "# Define a reusable function for plotting stock data\n",
    "def make_graph(stock_data, title):\n",
    "    \"\"\"\n",
    "    Plots the closing stock price over time.\n",
    "    Arguments:\n",
    "    - stock_data: DataFrame containing stock data with 'Date' and 'Close' columns\n",
    "    - title: Title of the plot\n",
    "    \"\"\"\n",
    "    plt.figure(figsize=(12, 6))\n",
    "    plt.plot(stock_data['Date'], stock_data['Close'], label=\"Closing Price\")\n",
    "    plt.title(title)\n",
    "    plt.xlabel(\"Date\")\n",
    "    plt.ylabel(\"USD\")\n",
    "    plt.legend()\n",
    "    plt.show()"
   ]
  },
  {
   "cell_type": "code",
   "execution_count": null,
   "id": "33557f42-1fef-4c86-b5a8-b18a55a66043",
   "metadata": {},
   "outputs": [],
   "source": [
    "# =========================================\n",
    "# Segment 1: Downloading Tesla Stock Prices\n",
    "# =========================================\n",
    "\n",
    "# Download Tesla stock price history using yfinance\n",
    "print(\"Fetching Tesla historical stock information...\")\n",
    "tsla = yf.Ticker(\"TSLA\")\n",
    "tsla_data = tslA.history(period=\"max\")  # Retrieve maximum available history\n",
    "tsla_data.reset_index(inplace=True)  # Reset index to make 'Date' a column\n",
    "print(\"Displaying initial Tesla stock records:\")\n",
    "print(tsla_data.head())  # Display first 5 rows for verification\n"
   ]
  },
  {
   "cell_type": "code",
   "execution_count": null,
   "id": "08d38a41-094c-4366-9371-62c647b88d51",
   "metadata": {},
   "outputs": [],
   "source": [
    "# =========================================\n",
    "# Segment 2: Collecting Tesla Quarterly Revenue via Webscraping\n",
    "# =========================================\n",
    "\n",
    "# Scrape Tesla revenue data from Macrotrends website\n",
    "print(\"Retrieving Tesla revenue data from Macrotrends...\")\n",
    "tsla_url = \"https://www.macrotrends.net/stocks/charts/TSLA/tesla/revenue\"\n",
    "tsla_html = requests.get(tsla_url).text\n",
    "\n",
    "# Parse the HTML content using BeautifulSoup\n",
    "tsla_soup = BeautifulSoup(tsla_html, \"html.parser\")\n",
    "tsla_tables = tslA_soup.find_all(\"table\")  # Find all tables on the page\n",
    "\n",
    "# Search for the table containing 'Quarterly Revenue' data\n",
    "for table in tsla_tables:\n",
    "    if \"Quarterly Revenue\" in table.text:\n",
    "        tslA_revenue_table = table\n",
    "        break\n",
    "\n",
    "# Extract data rows from the revenue table\n",
    "tsla_revenue = []\n",
    "tsla_revenue_rows = tslA_revenue_table.find_all(\"tr\")\n",
    "for row in tsla_revenue_rows:\n",
    "    cols = row.find_all(\"td\")\n",
    "    if len(cols) == 2:\n",
    "        date = cols[0].text.strip()\n",
    "        revenue = cols[1].text.strip().replace(\"$\", \"\").replace(\",\", \"\")\n",
    "        revenue = revenue if revenue else \"0\"\n",
    "        tsla_revenue.append({\"Date\": date, \"Revenue\": float(revenue)})\n",
    "\n",
    "# Convert the extracted data into a pandas DataFrame\n",
    "tsla_revenue_df = pd.DataFrame(tsla_revenue)\n",
    "print(\"Latest Tesla revenue entries:\")\n",
    "print(tsla_revenue_df.tail())  # Display last 5 rows for verification\n"
   ]
  },
  {
   "cell_type": "code",
   "execution_count": null,
   "id": "0ae6d457-c5c0-4a02-a691-8243197287e7",
   "metadata": {},
   "outputs": [],
   "source": [
    "# =========================================\n",
    "# Segment 3: Acquiring GameStop Stock Market Data\n",
    "# =========================================\n",
    "\n",
    "# Download GameStop stock price history using yfinance\n",
    "print(\"Downloading GameStop price history...\")\n",
    "gme = yf.Ticker(\"GME\")\n",
    "gme_data = gme.history(period=\"max\")\n",
    "gme_data.reset_index(inplace=True)\n",
    "print(\"Displaying initial GameStop stock entries:\")\n",
    "print(gme_data.head())\n"
   ]
  },
  {
   "cell_type": "code",
   "execution_count": null,
   "id": "eece52d4-0608-41f7-8c1c-9092fea7c2a7",
   "metadata": {},
   "outputs": [],
   "source": [
    "# =========================================\n",
    "# Segment 4: Extracting GameStop Revenue Information\n",
    "# =========================================\n",
    "\n",
    "# Scrape GameStop revenue data from Macrotrends website\n",
    "print(\"Fetching GameStop revenue records from Macrotrends...\")\n",
    "gme_url = \"https://www.macrotrends.net/stocks/charts/GME/gamestop/revenue\"\n",
    "gme_html = requests.get(gme_url).text\n",
    "gme_soup = BeautifulSoup(gme_html, \"html.parser\")\n",
    "gme_tables = gme_soup.find_all(\"table\")\n",
    "\n",
    "# Search for the revenue table\n",
    "for table in gme_tables:\n",
    "    if \"Quarterly Revenue\" in table.text:\n",
    "        gme_revenue_table = table\n",
    "        break\n",
    "\n",
    "# Extract data rows from the GameStop revenue table\n",
    "gme_revenue = []\n",
    "gme_revenue_rows = gme_revenue_table.find_all(\"tr\")\n",
    "for row in gme_revenue_rows:\n",
    "    cols = row.find_all(\"td\")\n",
    "    if len(cols) == 2:\n",
    "        date = cols[0].text.strip()\n",
    "        revenue = cols[1].text.strip().replace(\"$\", \"\").replace(\",\", \"\")\n",
    "        revenue = revenue if revenue else \"0\"\n",
    "        gme_revenue.append({\"Date\": date, \"Revenue\": float(revenue)})\n",
    "\n",
    "gme_revenue_df = pd.DataFrame(gme_revenue)\n",
    "print(\"Latest GameStop revenue entries:\")\n",
    "print(gme_revenue_df.tail())\n"
   ]
  },
  {
   "cell_type": "code",
   "execution_count": null,
   "id": "95558957-2c34-4da9-895d-bbbbd6c6026c",
   "metadata": {},
   "outputs": [],
   "source": [
    "# =========================================\n",
    "# Segment 5: Tesla Price Visualization\n",
    "# =========================================\n",
    "\n",
    "# Visualize Tesla stock price\n",
    "print(\"Rendering Tesla price chart...\")\n",
    "make_graph(tsla_data, \"Tesla Historical Stock Prices\")\n"
   ]
  },
  {
   "cell_type": "code",
   "execution_count": null,
   "id": "359c5656-d206-4a2b-9e7e-63b2dcdd9228",
   "metadata": {},
   "outputs": [],
   "source": [
    "# =========================================\n",
    "# Segment 6: GameStop Price Visualization\n",
    "# =========================================\n",
    "\n",
    "# Visualize GameStop stock price\n",
    "print(\"Rendering GameStop price chart...\")\n",
    "make_graph(gme_data, \"GameStop Historical Stock Prices\")\n"
   ]
  }
 ],
 "metadata": {
  "kernelspec": {
   "display_name": "Python 3 (ipykernel)",
   "language": "python",
   "name": "python3"
  },
  "language_info": {
   "codemirror_mode": {
    "name": "ipython",
    "version": 3
   },
   "file_extension": ".py",
   "mimetype": "text/x-python",
   "name": "python",
   "nbconvert_exporter": "python",
   "pygments_lexer": "ipython3",
   "version": "3.12.4"
  }
 },
 "nbformat": 4,
 "nbformat_minor": 5
}
